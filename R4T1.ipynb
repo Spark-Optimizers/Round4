{
 "cells": [
  {
   "cell_type": "markdown",
   "metadata": {},
   "source": [
    "# R4T1"
   ]
  },
  {
   "cell_type": "markdown",
   "metadata": {},
   "source": [
    "# Openning Data"
   ]
  },
  {
   "cell_type": "code",
   "execution_count": null,
   "metadata": {},
   "outputs": [],
   "source": [
    "using SparseArrays\n",
    "using JuMP\n",
    "using Ipopt\n",
    "using GLPK\n",
    "using LinearAlgebra\n",
    "using MAT"
   ]
  },
  {
   "cell_type": "code",
   "execution_count": null,
   "metadata": {},
   "outputs": [],
   "source": [
    "file = matopen(\"R4T1.mat\")\n",
    "varnames = names(file)"
   ]
  },
  {
   "cell_type": "code",
   "execution_count": null,
   "metadata": {},
   "outputs": [],
   "source": [
    "S = read(file, \"S\")\n",
    "L = read(file, \"L\")\n",
    "U = read(file, \"U\")\n",
    "lambda = read(file,\"lambda\")"
   ]
  },
  {
   "cell_type": "code",
   "execution_count": null,
   "metadata": {},
   "outputs": [],
   "source": [
    "(m,n)=size(S)\n",
    "(r,c) = size(L)"
   ]
  },
  {
   "cell_type": "markdown",
   "metadata": {},
   "source": [
    "# constructing model"
   ]
  },
  {
   "cell_type": "code",
   "execution_count": null,
   "metadata": {},
   "outputs": [],
   "source": [
    "mzeros = zeros(m,1);"
   ]
  },
  {
   "cell_type": "code",
   "execution_count": null,
   "metadata": {
    "scrolled": true
   },
   "outputs": [],
   "source": [
    "function opt_vector0(S,l,u,z)\n",
    "    model = Model(Ipopt.Optimizer)\n",
    "    @variable(model, l[i] <= v[i = 1:r] <= u[i])\n",
    "    @variable(model,a[1:r])\n",
    "    @constraint(model, S*v .== mzeros)\n",
    "    @constraint(model, a .>= v)\n",
    "    @constraint(model, a .>= -v)\n",
    "    @NLobjective(model,Min,sum(sqrt(1+z[i]+a[i]) for i=1:r))\n",
    "    optimize!(model)\n",
    "    \n",
    "    return JuMP.value.(v)\n",
    "end"
   ]
  },
  {
   "cell_type": "code",
   "execution_count": null,
   "metadata": {},
   "outputs": [],
   "source": [
    "function opt_vector1(S,l,u,z)\n",
    "    model = Model(Ipopt.Optimizer)\n",
    "    @variable(model, l[i] <= v[i = 1:r] <= u[i])\n",
    "    @variable(model,a[1:r])\n",
    "    @constraint(model,-10^-3*mzeros .<= S*v .<= 10^-3*mzeros)\n",
    "    @constraint(model, a .>= v)\n",
    "    @constraint(model, a .>= -v)\n",
    "    @NLobjective(model,Min,sum(sqrt(1+z[i]+a[i]) for i=1:r))\n",
    "    optimize!(model)\n",
    "    \n",
    "    return JuMP.value.(v)\n",
    "end"
   ]
  },
  {
   "cell_type": "code",
   "execution_count": null,
   "metadata": {},
   "outputs": [],
   "source": [
    "function opt_vector2(S,l,u,z)\n",
    "    model = Model(Ipopt.Optimizer)\n",
    "    @variable(model, l[i] <= v[i = 1:r] <= u[i])\n",
    "    @variable(model,a[1:r])\n",
    "    @variable(model,b[1:m])\n",
    "    \n",
    "    @constraint(model, a .>= v)\n",
    "    @constraint(model, a .>= -v)\n",
    "    \n",
    "    @constraint(model, b >= S*v)\n",
    "    @constraint(model, b >= S*v)\n",
    "    \n",
    "    \n",
    "    @NLobjective(model,Min,sum(sqrt(1+z[i]+a[i]) for i=1:r) + lambda*sum(b[j] for j=1:m))\n",
    "    optimize!(model)\n",
    "    \n",
    "    return JuMP.value.(v)\n",
    "end"
   ]
  },
  {
   "cell_type": "code",
   "execution_count": null,
   "metadata": {},
   "outputs": [],
   "source": [
    "function zero_rows(V)\n",
    "    indexes= zeros(Int64,size(V)[1],1)\n",
    "    k=1\n",
    "    for i in 1:size(V)[1]\n",
    "        if sum(V[i,:].*V[i,:])<1e-10\n",
    "            indexes[k]= i\n",
    "            k+=1\n",
    "        end\n",
    "    end\n",
    "    return length(indexes[1:k-1])\n",
    "end"
   ]
  },
  {
   "cell_type": "code",
   "execution_count": null,
   "metadata": {},
   "outputs": [],
   "source": [
    "function row_squares(V)\n",
    "    r,c = size(V,1), size(V,2)\n",
    "    squares = zeros(r,1)\n",
    "    for i in 1:r\n",
    "        z=0\n",
    "        for j in 1:c\n",
    "           z += (V[i,j])^2\n",
    "        end\n",
    "        #squares[i]=sqrt(z)\n",
    "        squares[i]=z\n",
    "    end\n",
    "    return squares\n",
    "end"
   ]
  },
  {
   "cell_type": "code",
   "execution_count": null,
   "metadata": {},
   "outputs": [],
   "source": [
    "l = L[:,1]\n",
    "u = U[:,1]\n",
    "z = ones(r,1)\n",
    "v = opt_vector2(S,l,u,z)\n",
    "zero_rows(v)"
   ]
  },
  {
   "cell_type": "code",
   "execution_count": null,
   "metadata": {},
   "outputs": [],
   "source": [
    "V=v;"
   ]
  },
  {
   "cell_type": "code",
   "execution_count": null,
   "metadata": {
    "scrolled": true
   },
   "outputs": [],
   "source": [
    "for i in 2:c\n",
    "    if isdefined(Main, :IJulia)\n",
    "        Main.IJulia.stdio_bytes[] = 0\n",
    "    end\n",
    "    l = L[:,i]\n",
    "    u = U[:,i]\n",
    "    z = row_squares(V)\n",
    "    v = opt_vector2(S,l,u,z)\n",
    "    V = [V v]\n",
    "    print(\"**i : \",i,\"\\n\")\n",
    "    print(\"***\",zero_rows(V),\"\\n\") \n",
    "end"
   ]
  },
  {
   "cell_type": "code",
   "execution_count": null,
   "metadata": {},
   "outputs": [],
   "source": [
    "V"
   ]
  },
  {
   "cell_type": "code",
   "execution_count": null,
   "metadata": {},
   "outputs": [],
   "source": [
    "n1 = zero_rows(V)\n",
    "print(n1,\"\\n\")\n",
    "n2 = zero_rows((S*V)')\n",
    "print(n2,\"\\n\")\n",
    "tot = zero_rows(V)+lambda*zero_rows((S*V)')\n",
    "print(tot,\"\\n\")"
   ]
  },
  {
   "cell_type": "markdown",
   "metadata": {},
   "source": [
    "# writing to output file"
   ]
  },
  {
   "cell_type": "code",
   "execution_count": null,
   "metadata": {},
   "outputs": [],
   "source": [
    "using DelimitedFiles\n",
    "open(\"output.txt\",\"w\") do io\n",
    "    writedlm(io, V,\",\")\n",
    "end"
   ]
  },
  {
   "cell_type": "code",
   "execution_count": null,
   "metadata": {},
   "outputs": [],
   "source": []
  }
 ],
 "metadata": {
  "kernelspec": {
   "display_name": "Julia 1.5.3",
   "language": "julia",
   "name": "julia-1.5"
  },
  "language_info": {
   "file_extension": ".jl",
   "mimetype": "application/julia",
   "name": "julia",
   "version": "1.5.3"
  }
 },
 "nbformat": 4,
 "nbformat_minor": 4
}
